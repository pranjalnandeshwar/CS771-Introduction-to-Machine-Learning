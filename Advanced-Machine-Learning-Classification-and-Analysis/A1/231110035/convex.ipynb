{
 "cells": [
  {
   "cell_type": "code",
   "execution_count": 2,
   "id": "b85d8e5f",
   "metadata": {},
   "outputs": [
    {
     "name": "stdout",
     "output_type": "stream",
     "text": [
      "Accuracy: 46.89320388349515 %\n"
     ]
    }
   ],
   "source": [
    "import numpy as np\n",
    "\n",
    "#size of X_seen is 40 * (N_i x D) where N_i is the number of training samples for ith seen class\n",
    "X_seen = np.load('X_seen.npy',encoding='bytes',allow_pickle=True)\n",
    "\n",
    "#40x85 matrix with each row being the 85-dimensional class attribute vector of a seen class.\n",
    "class_attributes_seen = np.load('class_attributes_seen.npy',encoding='bytes',allow_pickle=True)\n",
    "\n",
    "#10x85 matrix with each row being the 85-dimensional class attribute vector of an  unseen class.\n",
    "class_attributes_unseen = np.load('class_attributes_unseen.npy',encoding='bytes',allow_pickle=True)\n",
    "\n",
    "#loading test data feature matrices\n",
    "Xtest=np.load('Xtest.npy',encoding='bytes',allow_pickle=True)\n",
    "\n",
    "#loading true labels of test data\n",
    "Ytest=np.load('Ytest.npy',encoding='bytes',allow_pickle=True)\n",
    "\n",
    "\n",
    "mean_X_seen = np.empty((0,4096))\n",
    "S_ck = np.empty((0,40))\n",
    "normalized_S_ck = np.empty((0,40))\n",
    "predicted_labels = np.empty((0,1))\n",
    "\n",
    "#calculating feature means of all seen 40 classes\n",
    "for seen_matrix in X_seen:\n",
    "    abc = np.array([])\n",
    "    for i in range(seen_matrix.shape[1]):\n",
    "        abc = np.append(abc,np.sum(seen_matrix[:,i])/seen_matrix.shape[0])\n",
    "    mean_X_seen = np.vstack((mean_X_seen,abc))\n",
    "#print(mean_X_seen)\n",
    "  \n",
    "#calculating similarity between each seen class and each unseen class feature vector\n",
    "for c in range(len(class_attributes_unseen)):\n",
    "    lst = np.array([])\n",
    "    for k in range(len(class_attributes_seen)):\n",
    "        lst = np.append(lst,class_attributes_unseen[c] @ class_attributes_seen[k])\n",
    "    S_ck = np.vstack((S_ck,lst))\n",
    "    \n",
    "#normalizing the vector S_ck\n",
    "for vector in S_ck:\n",
    "    lyst = np.array([])\n",
    "    x = sum(vector)\n",
    "    for feature_val in vector:\n",
    "        lyst = np.append(lyst,feature_val/x)\n",
    "    normalized_S_ck = np.vstack((normalized_S_ck,lyst))\n",
    "#print(normalized_S_ck)\n",
    "\n",
    "#calculating mean for unseen 10 classes\n",
    "mean_X_unseen = normalized_S_ck @ mean_X_seen\n",
    "#print(mean_X_unseen)\n",
    "\n",
    "\n",
    "#calculating predicted labels\n",
    "for test in Xtest:\n",
    "    efg = np.array([])\n",
    "    for unseen_mean in mean_X_unseen:\n",
    "        y = np.linalg.norm(test - unseen_mean)\n",
    "        efg = np.append(efg,y)\n",
    "    predicted_labels = np.vstack((predicted_labels,np.argmin(efg)+1))\n",
    "\n",
    "#testing accuracy\n",
    "correct_predictions = np.sum(Ytest == predicted_labels)\n",
    "total_predictions = Ytest.shape[0]\n",
    "accuracy = correct_predictions / total_predictions\n",
    "print(\"Accuracy:\",accuracy*100,\"%\")"
   ]
  },
  {
   "cell_type": "code",
   "execution_count": null,
   "id": "e8f439b0",
   "metadata": {},
   "outputs": [],
   "source": []
  }
 ],
 "metadata": {
  "kernelspec": {
   "display_name": "Python 3 (ipykernel)",
   "language": "python",
   "name": "python3"
  },
  "language_info": {
   "codemirror_mode": {
    "name": "ipython",
    "version": 3
   },
   "file_extension": ".py",
   "mimetype": "text/x-python",
   "name": "python",
   "nbconvert_exporter": "python",
   "pygments_lexer": "ipython3",
   "version": "3.11.4"
  }
 },
 "nbformat": 4,
 "nbformat_minor": 5
}
