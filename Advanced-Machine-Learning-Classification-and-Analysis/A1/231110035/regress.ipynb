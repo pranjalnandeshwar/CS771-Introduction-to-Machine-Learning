{
 "cells": [
  {
   "cell_type": "code",
   "execution_count": 1,
   "id": "14e37ba5",
   "metadata": {
    "scrolled": false
   },
   "outputs": [
    {
     "name": "stdout",
     "output_type": "stream",
     "text": [
      "Accuracy for λ = 0.01 is 58.090614886731395 %\n",
      "Accuracy for λ = 0.1 is 59.54692556634305 %\n",
      "Accuracy for λ = 1.0 is 67.39482200647248 %\n",
      "Accuracy for λ = 10.0 is 73.28478964401295 %\n",
      "Accuracy for λ = 20.0 is 71.68284789644012 %\n",
      "Accuracy for λ = 50.0 is 65.08090614886731 %\n",
      "Accuracy for λ = 100.0 is 56.47249190938511 %\n"
     ]
    }
   ],
   "source": [
    "import numpy as np\n",
    "\n",
    "#size of X_seen is 40 * (N_i x D) where N_i is the number of training samples for ith seen class\n",
    "X_seen = np.load('X_seen.npy',encoding='bytes',allow_pickle=True)\n",
    "\n",
    "#40x85 matrix with each row being the 85-dimensional class attribute vector of a seen class.\n",
    "A_s = np.load('class_attributes_seen.npy',encoding='bytes',allow_pickle=True)\n",
    "\n",
    "#10x85 matrix with each row being the 85-dimensional class attribute vector of 10  unseen class.\n",
    "a_c = np.load('class_attributes_unseen.npy',encoding='bytes',allow_pickle=True)\n",
    "\n",
    "#loading test data feature matrices\n",
    "Xtest=np.load('Xtest.npy',encoding='bytes',allow_pickle=True)\n",
    "\n",
    "#loading true labels of test data\n",
    "Ytest=np.load('Ytest.npy',encoding='bytes',allow_pickle=True)\n",
    "\n",
    "lambda_values = np.array([0.01,0.1,1,10,20,50,100])\n",
    "\n",
    "M_s = np.empty((0,4096))\n",
    "\n",
    "\n",
    "#calculating feature means of all seen 40 classes\n",
    "for seen_matrix in X_seen:\n",
    "    abc = np.array([])\n",
    "    for i in range(seen_matrix.shape[1]):\n",
    "        abc = np.append(abc,np.sum(seen_matrix[:,i])/seen_matrix.shape[0])\n",
    "    M_s = np.vstack((M_s,abc))\n",
    "\n",
    "\n",
    "for λ in lambda_values:\n",
    "    predicted_labels = np.empty((0,1))\n",
    "    M_us = np.empty((0,4096))\n",
    "    #Calculating means for 10 unseen classes.\n",
    "    I = np.identity(A_s.shape[1])\n",
    "    W = (np.linalg.inv((A_s.transpose() @ A_s) + λ*I) @ (A_s.transpose() @ M_s))\n",
    "    M_us = np.vstack((M_us,a_c @ W))\n",
    "\n",
    "    #calculating predicted labels\n",
    "    for test in Xtest:\n",
    "        efg = np.array([])\n",
    "        for unseen_mean in M_us:\n",
    "            y = np.linalg.norm(test - unseen_mean)\n",
    "            efg = np.append(efg,y)\n",
    "        predicted_labels = np.vstack((predicted_labels,np.argmin(efg)+1))\n",
    "    \n",
    "    #testing accuracy\n",
    "    correct_predictions = np.sum(Ytest == predicted_labels)\n",
    "    total_predictions = Ytest.shape[0]\n",
    "    accuracy = correct_predictions / total_predictions\n",
    "    print(\"Accuracy for λ =\",λ,\"is\",accuracy*100,\"%\")\n",
    "  "
   ]
  },
  {
   "cell_type": "code",
   "execution_count": null,
   "id": "50100602",
   "metadata": {},
   "outputs": [],
   "source": []
  }
 ],
 "metadata": {
  "kernelspec": {
   "display_name": "Python 3 (ipykernel)",
   "language": "python",
   "name": "python3"
  },
  "language_info": {
   "codemirror_mode": {
    "name": "ipython",
    "version": 3
   },
   "file_extension": ".py",
   "mimetype": "text/x-python",
   "name": "python",
   "nbconvert_exporter": "python",
   "pygments_lexer": "ipython3",
   "version": "3.11.4"
  }
 },
 "nbformat": 4,
 "nbformat_minor": 5
}
